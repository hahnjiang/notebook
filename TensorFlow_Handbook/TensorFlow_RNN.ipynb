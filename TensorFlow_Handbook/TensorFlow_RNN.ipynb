{
 "cells": [
  {
   "cell_type": "markdown",
   "metadata": {},
   "source": [
    "# 递归神经网络（Recurrent Neural Networks / RNN）\n",
    "RNN 是一类用于处理序列数据的神经网络，可处理可变长度的序列数据。\n",
    "\n",
    "$s^{(t)}=f(s^{(t-1)};\\theta)$\n",
    "\n",
    "RNN 引入了隐状态 h 的概念，h 可以对序列型的数据提取特征，接着再转换为输出。\n",
    "\n",
    "$s^{(t)}=f(s^{(t-1)}, x^{t};\\theta)$\n",
    "\n",
    "$h^{(t)}=f(h^{(t-1)}, x^{t};\\theta)$\n"
   ]
  },
  {
   "cell_type": "markdown",
   "metadata": {},
   "source": [
    "$h_{1}=f(Ux_{1}+Wh_{0}+b)$\n",
    "![img](https://pic1.zhimg.com/v2-a5f8bc30bcc2d9eba7470810cb362850_r.jpg)"
   ]
  },
  {
   "cell_type": "markdown",
   "metadata": {},
   "source": [
    "$h_{2}=f(Ux_{2}+Wh_{1}+b)$\n",
    "![img](https://pic3.zhimg.com/v2-74d7ac80ca83165092579932920d0ffe_r.jpg)"
   ]
  },
  {
   "cell_type": "markdown",
   "metadata": {},
   "source": [
    "\n",
    "\n",
    "\n"
   ]
  },
  {
   "cell_type": "markdown",
   "metadata": {},
   "source": [
    "* 圆圈和方块表示的是向量\n",
    "* 一个箭头表示对该向量做一次变换\n",
    "* 每一步的参数 U、W、b 都是一样的"
   ]
  },
  {
   "cell_type": "markdown",
   "metadata": {},
   "source": [
    "![image](https://cloud.githubusercontent.com/assets/901975/23348727/cc981856-fce7-11e6-83ea-4b187473466b.png)"
   ]
  },
  {
   "cell_type": "code",
   "execution_count": 1,
   "metadata": {
    "collapsed": true
   },
   "outputs": [],
   "source": [
    "import tensorflow as tf\n",
    "import numpy as np\n",
    "from tensorflow.contrib import rnn\n",
    "import pprint\n",
    "pp = pprint.PrettyPrinter(indent=4)\n",
    "sess = tf.InteractiveSession()\n",
    "\n",
    "# One hot encoding for each char in 'hello'\n",
    "h = [1, 0, 0, 0]\n",
    "e = [0, 1, 0, 0]\n",
    "l = [0, 0, 1, 0]\n",
    "o = [0, 0, 0, 1]"
   ]
  },
  {
   "cell_type": "code",
   "execution_count": 2,
   "metadata": {},
   "outputs": [
    {
     "name": "stdout",
     "output_type": "stream",
     "text": [
      "2 2\n",
      "array([[[ 1.,  0.,  0.,  0.]]], dtype=float32)\n",
      "[   <tf.Variable 'one_cell/rnn/basic_rnn_cell/kernel:0' shape=(6, 2) dtype=float32_ref>,\n",
      "    <tf.Variable 'one_cell/rnn/basic_rnn_cell/bias:0' shape=(2,) dtype=float32_ref>]\n",
      "array([[[ 0.47539815,  0.49109346]]], dtype=float32)\n"
     ]
    }
   ],
   "source": [
    "with tf.variable_scope('one_cell') as scope:\n",
    "    # One cell RNN input_dim (4) -> output_dim (2)\n",
    "    hidden_size = 2\n",
    "    cell = tf.contrib.rnn.BasicRNNCell(num_units=hidden_size)\n",
    "    print(cell.output_size, cell.state_size)\n",
    "\n",
    "    x_data = np.array([[h]], dtype=np.float32) # x_data = [[[1,0,0,0]]]\n",
    "    pp.pprint(x_data)\n",
    "    \n",
    "    outputs, _states = tf.nn.dynamic_rnn(cell, x_data, dtype=tf.float32)\n",
    "\n",
    "    sess.run(tf.global_variables_initializer())\n",
    "    pp.pprint(cell.trainable_weights)\n",
    "    pp.pprint(outputs.eval())"
   ]
  }
 ],
 "metadata": {
  "kernelspec": {
   "display_name": "Python 3",
   "language": "python",
   "name": "python3"
  },
  "language_info": {
   "codemirror_mode": {
    "name": "ipython",
    "version": 3
   },
   "file_extension": ".py",
   "mimetype": "text/x-python",
   "name": "python",
   "nbconvert_exporter": "python",
   "pygments_lexer": "ipython3",
   "version": "3.6.3"
  }
 },
 "nbformat": 4,
 "nbformat_minor": 2
}
