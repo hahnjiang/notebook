{
 "cells": [
  {
   "cell_type": "code",
   "execution_count": 1,
   "metadata": {
    "collapsed": true
   },
   "outputs": [],
   "source": [
    "%matplotlib inline\n",
    "import numpy as np\n",
    "import tensorflow as tf\n",
    "import matplotlib.pyplot as plt"
   ]
  },
  {
   "cell_type": "code",
   "execution_count": 2,
   "metadata": {
    "scrolled": true
   },
   "outputs": [
    {
     "name": "stdout",
     "output_type": "stream",
     "text": [
      "(1, 3, 3, 1)\n"
     ]
    },
    {
     "data": {
      "text/plain": [
       "<matplotlib.image.AxesImage at 0x10e4fa780>"
      ]
     },
     "execution_count": 2,
     "metadata": {},
     "output_type": "execute_result"
    },
    {
     "data": {
      "image/png": "[encoded data removed]",
      "text/plain": [
       "<matplotlib.figure.Figure at 0x10b86e5c0>"
      ]
     },
     "metadata": {},
     "output_type": "display_data"
    }
   ],
   "source": [
    "sess = tf.InteractiveSession()\n",
    "image = np.array([[[[1],[2],[3]],\n",
    "                   [[4],[5],[6]], \n",
    "                   [[7],[8],[9]]]], dtype=np.float32)\n",
    "print(image.shape)\n",
    "plt.imshow(image.reshape(3,3), cmap='Greys')"
   ]
  },
  {
   "cell_type": "code",
   "execution_count": 3,
   "metadata": {},
   "outputs": [
    {
     "name": "stdout",
     "output_type": "stream",
     "text": [
      "image.shape (1, 3, 3, 1)\n",
      "weight.shape (3, 3, 1, 1)\n",
      "conv2d_img.shape (1, 3, 3, 1)\n",
      "[[  6.  12.   8.]\n",
      " [ 14.  25.  16.]\n",
      " [ 12.  18.  14.]]\n"
     ]
    }
   ],
   "source": [
    "# print(\"imag:\\n\", image)\n",
    "print(\"image.shape\", image.shape)\n",
    "weight = tf.constant([[[[1.]],[[0.]],[[1.]]],\n",
    "                      [[[0.]],[[1.]],[[0.]]],\n",
    "                      [[[1.]],[[0.]],[[1.]]]])\n",
    "print(\"weight.shape\", weight.shape)\n",
    "\n",
    "conv2d = tf.nn.conv2d(image, weight, strides=[1, 1, 1, 1], padding='SAME')\n",
    "conv2d_img = conv2d.eval()\n",
    "print(\"conv2d_img.shape\", conv2d_img.shape)\n",
    "conv2d_img = np.swapaxes(conv2d_img, 0, 3)\n",
    "print(conv2d_img.reshape(3,3))"
   ]
  },
  {
   "cell_type": "code",
   "execution_count": 4,
   "metadata": {},
   "outputs": [
    {
     "name": "stdout",
     "output_type": "stream",
     "text": [
      "(1, 5, 5, 1)\n",
      "(3, 3, 1, 1)\n",
      "(1, 1)\n",
      "(1, 2, 2, 1)\n",
      "[[ 26.  26.]\n",
      " [  0.  26.]]\n"
     ]
    }
   ],
   "source": [
    "#X = tf.Variable(np.ones((1,5,5,1)), dtype=tf.float32)\n",
    "X = np.ones((1,5,5,1), dtype=np.float32)\n",
    "Y = tf.Variable(np.zeros((1,5,5,1)), dtype=tf.float32)\n",
    "f = tf.constant([[[[1.]],[[1.]],[[1.]]],\n",
    "                      [[[1.]],[[1.]],[[0.]]],\n",
    "                      [[[1.]],[[0.]],[[1.]]]])\n",
    "b = tf.constant([[6.]])\n",
    "print(X.shape)\n",
    "print(f.shape)\n",
    "print(b.shape)\n",
    "L1 = tf.nn.conv2d(X, f, strides=[1,1,1,1], padding=\"VALID\")\n",
    "L1 = tf.add(L1, b)\n",
    "L1 = tf.nn.relu(L1)\n",
    "L1 = tf.nn.max_pool(L1, ksize=[1,2,2,1], strides=[1,1,1,1], padding=\"VALID\")\n",
    "L1 = tf.nn.dropout(L1, keep_prob=0.5)\n",
    "r = L1.eval()\n",
    "print(L1.get_shape())\n",
    "print(r.reshape(2,2))\n"
   ]
  },
  {
   "cell_type": "code",
   "execution_count": 5,
   "metadata": {},
   "outputs": [
    {
     "name": "stdout",
     "output_type": "stream",
     "text": [
      "[[ 1.  1.  1.  1.  1.  1.  1.  1.  1.  1.  1.  1.  1.  0.]\n",
      " [ 1.  1.  1.  1.  1.  1.  1.  1.  1.  1.  1.  1.  1.  0.]\n",
      " [ 1.  1.  1.  1.  1.  1.  1.  1.  1.  1.  1.  1.  1.  0.]\n",
      " [ 1.  1.  1.  1.  1.  1.  1.  1.  1.  1.  1.  1.  1.  0.]\n",
      " [ 1.  1.  1.  1.  1.  1.  1.  1.  1.  1.  1.  1.  1.  0.]\n",
      " [ 1.  1.  1.  1.  1.  1.  1.  1.  1.  1.  1.  1.  1.  0.]\n",
      " [ 1.  1.  1.  1.  1.  1.  1.  1.  1.  1.  1.  1.  1.  0.]\n",
      " [ 1.  1.  1.  1.  1.  1.  1.  1.  1.  1.  1.  1.  1.  0.]\n",
      " [ 1.  1.  1.  1.  1.  1.  1.  1.  1.  1.  1.  1.  1.  0.]\n",
      " [ 1.  1.  1.  1.  1.  1.  1.  1.  1.  1.  1.  1.  1.  0.]\n",
      " [ 1.  1.  1.  1.  1.  1.  1.  1.  1.  1.  1.  1.  1.  0.]\n",
      " [ 1.  1.  1.  1.  1.  1.  1.  1.  1.  1.  1.  1.  1.  0.]\n",
      " [ 1.  1.  1.  1.  1.  1.  1.  1.  1.  1.  1.  1.  1.  0.]\n",
      " [ 0.  0.  0.  0.  0.  0.  0.  0.  0.  0.  0.  0.  0.  0.]]\n"
     ]
    }
   ],
   "source": [
    "X = np.ones((1,7,7,1), dtype=np.float32)\n",
    "f = tf.constant([[[[1.]],[[1.]],[[0.]],[[0.]]],\n",
    "                 [[[1.]],[[1.]],[[0.]],[[0.]]],\n",
    "                 [[[0.]],[[0.]],[[0.]],[[0.]]],\n",
    "                 [[[0.]],[[0.]],[[0.]],[[0.]]]])\n",
    "L2 = tf.nn.conv2d_transpose(value=X, filter=f, output_shape=[1,14,14,1], strides=[1,2,2,1], padding=\"SAME\")\n",
    "two = tf.Variable(2)\n",
    "r = L2.eval()\n",
    "print(r.reshape(14,14))"
   ]
  },
  {
   "cell_type": "code",
   "execution_count": 6,
   "metadata": {},
   "outputs": [
    {
     "name": "stdout",
     "output_type": "stream",
     "text": [
      "[[ 1.  1.  1. ...,  1.  1.  1.]\n",
      " [ 1.  1.  1. ...,  1.  1.  1.]\n",
      " [ 1.  1.  1. ...,  1.  1.  1.]\n",
      " ..., \n",
      " [ 1.  1.  1. ...,  1.  1.  1.]\n",
      " [ 1.  1.  1. ...,  1.  1.  1.]\n",
      " [ 1.  1.  1. ...,  1.  1.  1.]]\n"
     ]
    }
   ],
   "source": [
    "X = np.ones((1,28,28,1), dtype=np.float32)\n",
    "f = tf.constant(np.ones([16, 16, 1, 1], dtype=np.float32))\n",
    "L2 = tf.nn.conv2d_transpose(value=X, filter=f, output_shape=[1,224,224,1], strides=[1,8,8,1], padding=\"SAME\")\n",
    "r = L2.eval()\n",
    "print(r.reshape(224,224))"
   ]
  }
 ],
 "metadata": {
  "kernelspec": {
   "display_name": "Python 3",
   "language": "python",
   "name": "python3"
  },
  "language_info": {
   "codemirror_mode": {
    "name": "ipython",
    "version": 3
   },
   "file_extension": ".py",
   "mimetype": "text/x-python",
   "name": "python",
   "nbconvert_exporter": "python",
   "pygments_lexer": "ipython3",
   "version": "3.6.2"
  }
 },
 "nbformat": 4,
 "nbformat_minor": 2
}
