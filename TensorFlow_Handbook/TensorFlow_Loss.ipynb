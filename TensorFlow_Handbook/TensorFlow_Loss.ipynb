{
 "cells": [
  {
   "cell_type": "code",
   "execution_count": 1,
   "metadata": {
    "collapsed": true
   },
   "outputs": [],
   "source": [
    "import numpy as np\n",
    "import tensorflow as tf"
   ]
  },
  {
   "cell_type": "code",
   "execution_count": 2,
   "metadata": {},
   "outputs": [
    {
     "name": "stdout",
     "output_type": "stream",
     "text": [
      "(1, 3, 3, 3)\n",
      "(1, 3, 3, 3)\n",
      "(1, 3, 3, 1)\n",
      "(1, 3, 3, 1)\n"
     ]
    }
   ],
   "source": [
    "sess = tf.InteractiveSession()\n",
    "data1 = np.array([\n",
    "    [[1., 0., 0.],[0., 1., 0.],[0., 1., 0.]],\n",
    "    [[1., 0., 0.],[0., 1., 0.],[0., 1., 0.]],\n",
    "    [[1., 0., 0.],[1., 0., 0.],[1., 0., 0.]]\n",
    "])\n",
    "data2 = np.array([\n",
    "    [[2.0, 0.2, 0.1],[0., 1., 0.],[0., 1., 0.]],\n",
    "    [[1., 0., 0.],[0., 1., 0.],[0., 1., 0.]],\n",
    "    [[1., 0., 0.],[1., 0., 0.],[1., 0., 0.]]\n",
    "])\n",
    "data3 = np.array([\n",
    "    [[0],[1],[1]],\n",
    "    [[0],[1],[1]],\n",
    "    [[0],[0],[0]]\n",
    "])\n",
    "data4 = np.array([\n",
    "    [[0],[1],[1]],\n",
    "    [[0],[1],[1]],\n",
    "    [[0],[0],[0]]\n",
    "])\n",
    "y_true = np.array([data1])\n",
    "y_pred = np.array([data2])\n",
    "y_true_p = np.array([data3])\n",
    "y_pred_p = np.array([data4])\n",
    "print(y_true.shape)\n",
    "print(y_pred.shape)\n",
    "print(y_true_p.shape)\n",
    "print(y_pred_p.shape)"
   ]
  },
  {
   "cell_type": "code",
   "execution_count": 3,
   "metadata": {},
   "outputs": [
    {
     "name": "stdout",
     "output_type": "stream",
     "text": [
      "0.0388888888889\n"
     ]
    }
   ],
   "source": [
    "# mean_squared_error\n",
    "r = tf.reduce_mean(tf.square(y_pred - y_true))\n",
    "print(r.eval())"
   ]
  },
  {
   "cell_type": "code",
   "execution_count": 4,
   "metadata": {},
   "outputs": [
    {
     "name": "stdout",
     "output_type": "stream",
     "text": [
      "0.0481481481481\n"
     ]
    }
   ],
   "source": [
    "# mean_absolute_error\n",
    "r = tf.reduce_mean(tf.abs(y_pred - y_true))\n",
    "print(r.eval())"
   ]
  },
  {
   "cell_type": "code",
   "execution_count": 5,
   "metadata": {
    "collapsed": true
   },
   "outputs": [],
   "source": [
    "# categorical_crossentropy"
   ]
  },
  {
   "cell_type": "code",
   "execution_count": 6,
   "metadata": {
    "collapsed": true
   },
   "outputs": [],
   "source": [
    "# sparse_categorical_crossentropy"
   ]
  },
  {
   "cell_type": "code",
   "execution_count": 7,
   "metadata": {},
   "outputs": [
    {
     "name": "stdout",
     "output_type": "stream",
     "text": [
      "[[[[ 0.7605329   0.12571524  0.11375186]\n",
      "   [ 0.21194156  0.57611688  0.21194156]\n",
      "   [ 0.21194156  0.57611688  0.21194156]]\n",
      "\n",
      "  [[ 0.57611688  0.21194156  0.21194156]\n",
      "   [ 0.21194156  0.57611688  0.21194156]\n",
      "   [ 0.21194156  0.57611688  0.21194156]]\n",
      "\n",
      "  [[ 0.57611688  0.21194156  0.21194156]\n",
      "   [ 0.57611688  0.21194156  0.21194156]\n",
      "   [ 0.57611688  0.21194156  0.21194156]]]]\n",
      "[[[[-0.27373591 -0.         -0.        ]\n",
      "   [-0.         -0.55144471 -0.        ]\n",
      "   [-0.         -0.55144471 -0.        ]]\n",
      "\n",
      "  [[-0.55144471 -0.         -0.        ]\n",
      "   [-0.         -0.55144471 -0.        ]\n",
      "   [-0.         -0.55144471 -0.        ]]\n",
      "\n",
      "  [[-0.55144471 -0.         -0.        ]\n",
      "   [-0.55144471 -0.         -0.        ]\n",
      "   [-0.55144471 -0.         -0.        ]]]]\n",
      "4.68529361721\n"
     ]
    }
   ],
   "source": [
    "temp = tf.one_hot(tf.arg_max(tf.nn.softmax(y_pred), dimension=3), depth=3)\n",
    "temp = tf.nn.softmax(y_pred)\n",
    "print(temp.eval())\n",
    "r = y_true * tf.log(temp)\n",
    "print(r.eval())\n",
    "r = -tf.reduce_sum(r)\n",
    "print(r.eval())"
   ]
  },
  {
   "cell_type": "code",
   "execution_count": 8,
   "metadata": {
    "scrolled": true
   },
   "outputs": [
    {
     "name": "stdout",
     "output_type": "stream",
     "text": [
      "[[[[ 0.12692801  0.79813887  0.74439666]\n",
      "   [ 0.69314718  0.31326169  0.69314718]\n",
      "   [ 0.69314718  0.31326169  0.69314718]]\n",
      "\n",
      "  [[ 0.31326169  0.69314718  0.69314718]\n",
      "   [ 0.69314718  0.31326169  0.69314718]\n",
      "   [ 0.69314718  0.31326169  0.69314718]]\n",
      "\n",
      "  [[ 0.31326169  0.69314718  0.69314718]\n",
      "   [ 0.31326169  0.69314718  0.69314718]\n",
      "   [ 0.31326169  0.69314718  0.69314718]]]]\n"
     ]
    }
   ],
   "source": [
    "r = tf.nn.sigmoid_cross_entropy_with_logits(logits=y_pred, labels=y_true)\n",
    "print(r.eval())"
   ]
  },
  {
   "cell_type": "code",
   "execution_count": 9,
   "metadata": {},
   "outputs": [
    {
     "name": "stdout",
     "output_type": "stream",
     "text": [
      "[[[ 0.27373591  0.55144471  0.55144471]\n",
      "  [ 0.55144471  0.55144471  0.55144471]\n",
      "  [ 0.55144471  0.55144471  0.55144471]]]\n"
     ]
    }
   ],
   "source": [
    "r = tf.nn.softmax_cross_entropy_with_logits(logits=y_pred, labels=y_true)\n",
    "print(r.eval())"
   ]
  },
  {
   "cell_type": "code",
   "execution_count": 10,
   "metadata": {},
   "outputs": [],
   "source": [
    "# r = tf.nn.sparse_softmax_cross_entropy_with_logits(logits=y_pred_p, labels=y_true)\n",
    "# print(r.eval())"
   ]
  },
  {
   "cell_type": "code",
   "execution_count": 11,
   "metadata": {},
   "outputs": [],
   "source": [
    "# r = tf.nn.weighted_cross_entropy_with_logits(logits=y_pred, labels=y_true)\n",
    "# print(r.eval())"
   ]
  }
 ],
 "metadata": {
  "kernelspec": {
   "display_name": "Python 3",
   "language": "python",
   "name": "python3"
  },
  "language_info": {
   "codemirror_mode": {
    "name": "ipython",
    "version": 3
   },
   "file_extension": ".py",
   "mimetype": "text/x-python",
   "name": "python",
   "nbconvert_exporter": "python",
   "pygments_lexer": "ipython3",
   "version": "3.6.2"
  }
 },
 "nbformat": 4,
 "nbformat_minor": 2
}
