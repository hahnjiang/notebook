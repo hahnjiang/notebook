{
 "cells": [
  {
   "cell_type": "markdown",
   "metadata": {},
   "source": [
    "# TensorFlow 共享变量\n",
    "训练神经网络中，使用共享变量的好处：\n",
    "1. 减少训练参数的个数\n",
    "2. 多机并行化的情况下，对变量名和操作名的管理\n",
    "3. 维护逻辑清晰的计算图（Graph）\n",
    "\n",
    "共享变量的操作：\n",
    "* tf.Variable()\n",
    "* tf.get_variable()\n",
    "* tf.Variable_scope()\n",
    "* tf.name_scope()"
   ]
  },
  {
   "cell_type": "code",
   "execution_count": 1,
   "metadata": {
    "collapsed": true
   },
   "outputs": [],
   "source": [
    "import numpy as np\n",
    "import tensorflow as tf\n",
    "\n",
    "config = tf.ConfigProto(log_device_placement=True)\n",
    "sess = tf.Session(config=config)"
   ]
  },
  {
   "cell_type": "markdown",
   "metadata": {},
   "source": [
    "### ```tf.Variable(name=<name>)``` 用来创建一个新变量，变量在同一个 name_scope 下面，如果重名，底层会自动引入别名\n",
    "var1/var2/var3/var4 都是用 tf.Variable() 创建，并且名字都是 var，得到的结果：var1/var2 都属于默认的 scope，var3/var4 都属于 name_scope_0 的 scope，而在同一个 scope 中，重名的变量被自动的重命名，加上了后缀 ```_1```"
   ]
  },
  {
   "cell_type": "code",
   "execution_count": 2,
   "metadata": {},
   "outputs": [
    {
     "name": "stdout",
     "output_type": "stream",
     "text": [
      "var:0 [ 2.]\n",
      "var_1:0 [ 2.]\n",
      "name_scope_0/var:0 [ 2.]\n",
      "name_scope_0/var_1:0 [ 2.]\n"
     ]
    }
   ],
   "source": [
    "var1 = tf.Variable(name='var', initial_value=[2], dtype=tf.float32)\n",
    "var2 = tf.Variable(name='var', initial_value=[2], dtype=tf.float32)\n",
    "\n",
    "with tf.name_scope('name_scope_0'):\n",
    "    var3 = tf.Variable(name='var', initial_value=[2], dtype=tf.float32)\n",
    "    var4 = tf.Variable(name='var', initial_value=[2], dtype=tf.float32)\n",
    "\n",
    "with tf.Session() as sess:\n",
    "    sess.run(tf.global_variables_initializer())\n",
    "    print(var1.name, sess.run(var1))\n",
    "    print(var2.name, sess.run(var2))\n",
    "    print(var3.name, sess.run(var3))\n",
    "    print(var4.name, sess.run(var4))"
   ]
  },
  {
   "cell_type": "markdown",
   "metadata": {},
   "source": [
    "### ```tf.get_variable(name=<name>)``` 用来获取一个变量，如果没有则创建。并且该方法不受 name_scope() 的影响，同时在没有设置使用共享变量的情况下，会报错。\n",
    "1. var1 和 var2 都是在一个默认的 scope 下，并不会受 name_scope() 影响\n",
    "2. var1 和 var2 重名，所以会报错"
   ]
  },
  {
   "cell_type": "code",
   "execution_count": 3,
   "metadata": {},
   "outputs": [
    {
     "name": "stdout",
     "output_type": "stream",
     "text": [
      "var1:0 [ 0.43267941  1.17510712]\n",
      "var2:0 [-0.92306077 -1.13661373]\n"
     ]
    }
   ],
   "source": [
    "var1 = tf.get_variable(name='var1', shape=[2], dtype=tf.float32)\n",
    "with tf.name_scope('name_scope_0'):\n",
    "    var2 = tf.get_variable(name='var2', shape=[2], dtype=tf.float32)\n",
    "    \n",
    "with tf.Session() as sess:\n",
    "    sess.run(tf.global_variables_initializer())\n",
    "    print(var1.name, sess.run(var1))\n",
    "    print(var2.name, sess.run(var2))"
   ]
  },
  {
   "cell_type": "code",
   "execution_count": 4,
   "metadata": {},
   "outputs": [
    {
     "name": "stdout",
     "output_type": "stream",
     "text": [
      "var_2:0 [-1.0867722   0.93245447]\n"
     ]
    }
   ],
   "source": [
    "var1 = tf.get_variable(name='var', shape=[2], dtype=tf.float32)\n",
    "with tf.name_scope('name_scope_0'):\n",
    "    # var2 = tf.get_variable(name='var', shape=[2], dtype=tf.float32) 该行会报错pass\n",
    "    pass\n",
    "    \n",
    "with tf.Session() as sess:\n",
    "    sess.run(tf.global_variables_initializer())\n",
    "    print(var1.name, sess.run(var1))\n",
    "    # print(var2.name, sess.run(var2))\n",
    "\n",
    "# ERROR\n",
    "# ValueError: Variable var already exists, disallowed. Did you mean to set reuse=True in VarScope? Originally defined at:"
   ]
  },
  {
   "cell_type": "markdown",
   "metadata": {},
   "source": [
    "### ```tf.name_scope(<score_name>)``` 主要用于管理一个计算图中的各种操作（op），返回一个以 scope_name 命名的 context manager\n",
    "### ```tf.variable_scope(<scope_name>)``` 与 ```tf.name_scope(<score_name>)``` 配合使用，用于管理 scope 中的变量名，避免冲突\n",
    "* 使用 ```scope.reuse_variables()``` 设置之后，就不会报错了。"
   ]
  },
  {
   "cell_type": "code",
   "execution_count": 5,
   "metadata": {},
   "outputs": [
    {
     "name": "stdout",
     "output_type": "stream",
     "text": [
      "name_scope_1/var1:0 [-1.34448731]\n",
      "name_scope_1/var1:0 [-1.34448731]\n",
      "name_scope_1/var2:0 [ 2.]\n",
      "name_scope_1/var2_1:0 [ 2.]\n"
     ]
    }
   ],
   "source": [
    "with tf.variable_scope('name_scope_1') as scope:\n",
    "    var1 = tf.get_variable(name='var1', shape=[1], dtype=tf.float32)\n",
    "    scope.reuse_variables()  # 设置共享变量\n",
    "    var2 = tf.get_variable(name='var1')\n",
    "    var3 = tf.Variable(initial_value=[2.], name='var2', dtype=tf.float32)\n",
    "    var4 = tf.Variable(initial_value=[2.], name='var2', dtype=tf.float32)\n",
    "\n",
    "with tf.Session() as sess:\n",
    "    sess.run(tf.global_variables_initializer())\n",
    "    print(var1.name, sess.run(var1))\n",
    "    print(var2.name, sess.run(var2))\n",
    "    print(var3.name, sess.run(var3))\n",
    "    print(var4.name, sess.run(var4))"
   ]
  }
 ],
 "metadata": {
  "kernelspec": {
   "display_name": "Python 3",
   "language": "python",
   "name": "python3"
  },
  "language_info": {
   "codemirror_mode": {
    "name": "ipython",
    "version": 3
   },
   "file_extension": ".py",
   "mimetype": "text/x-python",
   "name": "python",
   "nbconvert_exporter": "python",
   "pygments_lexer": "ipython3",
   "version": "3.6.4"
  }
 },
 "nbformat": 4,
 "nbformat_minor": 2
}
