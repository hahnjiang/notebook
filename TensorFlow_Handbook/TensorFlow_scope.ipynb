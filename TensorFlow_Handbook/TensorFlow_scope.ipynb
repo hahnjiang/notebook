{
 "cells": [
  {
   "cell_type": "markdown",
   "metadata": {},
   "source": [
    "TensorFlow 共享变量以及分配"
   ]
  },
  {
   "cell_type": "code",
   "execution_count": 1,
   "metadata": {
    "collapsed": true
   },
   "outputs": [],
   "source": [
    "import numpy as np\n",
    "import tensorflow as tf\n",
    "\n",
    "config = tf.ConfigProto(log_device_placement=True)\n",
    "sess = tf.Session(config=config)"
   ]
  },
  {
   "cell_type": "code",
   "execution_count": 2,
   "metadata": {},
   "outputs": [
    {
     "name": "stdout",
     "output_type": "stream",
     "text": [
      "var1:0 [-0.84900182]\n",
      "name_scope_x/var2:0 [ 2.]\n",
      "var2:0 [-1.18312562  0.46193779]\n",
      "name_scope_x/var2_1:0 [ 2.]\n"
     ]
    }
   ],
   "source": [
    "with tf.name_scope('name_scope_x'):\n",
    "    var1 = tf.get_variable(name='var1', shape=[1], dtype=tf.float32)\n",
    "    var2 = tf.Variable(name='var2', initial_value=[2], dtype=tf.float32)\n",
    "    var3 = tf.get_variable(name='var2', shape=[2], dtype=tf.float32)\n",
    "    var4 = tf.Variable(name='var2', initial_value=[2], dtype=tf.float32)\n",
    "\n",
    "with tf.Session() as sess:\n",
    "    sess.run(tf.global_variables_initializer())\n",
    "    print(var1.name, sess.run(var1))\n",
    "    print(var2.name, sess.run(var2))\n",
    "    print(var3.name, sess.run(var3))\n",
    "    print(var4.name, sess.run(var4))"
   ]
  }
 ],
 "metadata": {
  "kernelspec": {
   "display_name": "Python 3",
   "language": "python",
   "name": "python3"
  },
  "language_info": {
   "codemirror_mode": {
    "name": "ipython",
    "version": 3
   },
   "file_extension": ".py",
   "mimetype": "text/x-python",
   "name": "python",
   "nbconvert_exporter": "python",
   "pygments_lexer": "ipython3",
   "version": "3.6.2"
  }
 },
 "nbformat": 4,
 "nbformat_minor": 2
}
