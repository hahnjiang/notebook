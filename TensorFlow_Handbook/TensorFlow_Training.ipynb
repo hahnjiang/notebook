{
 "cells": [
  {
   "cell_type": "code",
   "execution_count": 3,
   "metadata": {
    "collapsed": true
   },
   "outputs": [],
   "source": [
    "%matplotlib inline\n",
    "import numpy as np\n",
    "import tensorflow as tf\n",
    "import matplotlib.pyplot as plt\n",
    "sess = tf.InteractiveSession()"
   ]
  },
  {
   "cell_type": "markdown",
   "metadata": {},
   "source": [
    "Graphs\n",
    "TensorFlow separates definition of computations from their execution.\n",
    "Phase 1: assemble a graph\n",
    "Phase 2: use a session to execute operations in the graph\n"
   ]
  },
  {
   "cell_type": "code",
   "execution_count": 4,
   "metadata": {},
   "outputs": [
    {
     "name": "stdout",
     "output_type": "stream",
     "text": [
      "Tensor(\"Add_1:0\", shape=(), dtype=int32)\n",
      "5\n",
      "Tensor(\"Add_2:0\", shape=(2,), dtype=int32)\n",
      "[3 7]\n"
     ]
    }
   ],
   "source": [
    "a = tf.add(2, 3)\n",
    "print(a)\n",
    "print(a.eval())\n",
    "\n",
    "a = tf.add([1, 3], [2, 4])\n",
    "print(a)\n",
    "print(a.eval())"
   ]
  },
  {
   "cell_type": "markdown",
   "metadata": {},
   "source": [
    "Sessions"
   ]
  }
 ],
 "metadata": {
  "kernelspec": {
   "display_name": "Python 3",
   "language": "python",
   "name": "python3"
  },
  "language_info": {
   "codemirror_mode": {
    "name": "ipython",
    "version": 3
   },
   "file_extension": ".py",
   "mimetype": "text/x-python",
   "name": "python",
   "nbconvert_exporter": "python",
   "pygments_lexer": "ipython3",
   "version": "3.6.2"
  }
 },
 "nbformat": 4,
 "nbformat_minor": 2
}
