{
 "cells": [
  {
   "cell_type": "markdown",
   "metadata": {},
   "source": [
    "# MoviePy Tutorial\n",
    "MoviePy 是一个用来编辑视频的 Python 库，支持对视频的压缩、处理、格式转换等。\n",
    "## Basic Concepts\n",
    "*clips* 是 MoviePy 的核心对象，分为 ```AudioClips``` 和 ```VideoClips``` 两种，所有的操作和修改都基于这两种对象。"
   ]
  },
  {
   "cell_type": "code",
   "execution_count": 1,
   "metadata": {},
   "outputs": [],
   "source": [
    "from moviepy.editor import *"
   ]
  },
  {
   "cell_type": "code",
   "execution_count": 2,
   "metadata": {},
   "outputs": [
    {
     "name": "stdout",
     "output_type": "stream",
     "text": [
      "[MoviePy] >>>> Building video test_output.mp4\n",
      "[MoviePy] Writing video test_output.mp4\n"
     ]
    },
    {
     "name": "stderr",
     "output_type": "stream",
     "text": [
      "100%|██████████| 11899/11899 [10:42<00:00, 23.68it/s]\n"
     ]
    },
    {
     "name": "stdout",
     "output_type": "stream",
     "text": [
      "[MoviePy] Done.\n",
      "[MoviePy] >>>> Video ready: test_output.mp4 \n",
      "\n"
     ]
    }
   ],
   "source": [
    "clip1 = VideoFileClip(\"test1.mp4\")\n",
    "clip2 = VideoFileClip(\"test2.mp4\").subclip(50,60)\n",
    "clip3 = VideoFileClip(\"test3.mp4\")\n",
    "final_clip = concatenate_videoclips([clip1, clip2, clip3])\n",
    "final_clip.write_videofile(\"test_output.mp4\")"
   ]
  },
  {
   "cell_type": "code",
   "execution_count": 3,
   "metadata": {},
   "outputs": [
    {
     "name": "stdout",
     "output_type": "stream",
     "text": [
      "[MoviePy] >>>> Building video my_stack.mp4\n",
      "[MoviePy] Writing video my_stack.mp4\n"
     ]
    },
    {
     "name": "stderr",
     "output_type": "stream",
     "text": [
      "100%|██████████| 5678/5678 [1:07:07<00:00,  1.66it/s]"
     ]
    },
    {
     "name": "stdout",
     "output_type": "stream",
     "text": [
      "[MoviePy] Done.\n",
      "[MoviePy] >>>> Video ready: my_stack.mp4 \n",
      "\n"
     ]
    },
    {
     "name": "stderr",
     "output_type": "stream",
     "text": [
      "\n"
     ]
    }
   ],
   "source": [
    "clip1 = VideoFileClip(\"test1.mp4\").margin(10) # add 10px contour\n",
    "clip2 = clip1.fx(vfx.mirror_x)\n",
    "clip3 = clip1.fx(vfx.mirror_y)\n",
    "clip4 = clip1.resize(0.60) # downsize 60%\n",
    "final_clip = clips_array([[clip1, clip2],\n",
    "                          [clip3, clip4]])\n",
    "final_clip.resize(width=480).write_videofile(\"my_stack.mp4\")"
   ]
  },
  {
   "cell_type": "code",
   "execution_count": null,
   "metadata": {
    "collapsed": true
   },
   "outputs": [],
   "source": [
    "clip1 = VideoFileClip('./test1.mp4')\n",
    "i = 1\n",
    "for frame in clip1.iter_frames():\n",
    "    im = Image.fromarray(frame)\n",
    "    im.save(\"frame_image/test_%07d.jpg\" % i)\n",
    "    i += 1"
   ]
  }
 ],
 "metadata": {
  "kernelspec": {
   "display_name": "Python 3",
   "language": "python",
   "name": "python3"
  },
  "language_info": {
   "codemirror_mode": {
    "name": "ipython",
    "version": 3
   },
   "file_extension": ".py",
   "mimetype": "text/x-python",
   "name": "python",
   "nbconvert_exporter": "python",
   "pygments_lexer": "ipython3",
   "version": "3.6.2"
  }
 },
 "nbformat": 4,
 "nbformat_minor": 2
}
